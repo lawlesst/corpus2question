{
 "cells": [
  {
   "cell_type": "markdown",
   "metadata": {},
   "source": [
    "corpus2question example\n",
    "====================\n",
    "\n",
    "This notebook modifies the `corpus2question` tutorial to generate questions from sets of Wikipedia pages. \n",
    "\n",
    "* See the original code repository here: https://github.com/unicamp-dl/corpus2question\n",
    "* And the corresponding paper: https://arxiv.org/abs/2009.09290"
   ]
  },
  {
   "cell_type": "markdown",
   "metadata": {},
   "source": [
    "## Model Download\n",
    "\n",
    "Download the pretrained model from it's repository and load it using the transformers library. corpus2question is based in doc2query."
   ]
  },
  {
   "cell_type": "code",
   "execution_count": 1,
   "metadata": {},
   "outputs": [
    {
     "name": "stdout",
     "output_type": "stream",
     "text": [
      "--2020-09-25 10:38:54--  https://storage.googleapis.com/doctttttquery_git/t5-base.zip\n",
      "Resolving storage.googleapis.com (storage.googleapis.com)... 142.250.64.80, 172.217.11.48, 172.217.9.240, ...\n",
      "Connecting to storage.googleapis.com (storage.googleapis.com)|142.250.64.80|:443... connected.\n",
      "HTTP request sent, awaiting response... 200 OK\n",
      "Length: 357139559 (341M) [application/zip]\n",
      "Saving to: ‘t5-base.zip’\n",
      "\n",
      "t5-base.zip         100%[===================>] 340.59M  6.15MB/s    in 56s     \n",
      "\n",
      "2020-09-25 10:39:51 (6.06 MB/s) - ‘t5-base.zip’ saved [357139559/357139559]\n",
      "\n",
      "Archive:  t5-base.zip\n",
      "  inflating: model.ckpt-1004000.data-00000-of-00002  \n",
      "  inflating: model.ckpt-1004000.data-00001-of-00002  \n",
      "  inflating: model.ckpt-1004000.index  \n",
      "  inflating: model.ckpt-1004000.meta  \n"
     ]
    }
   ],
   "source": [
    "! wget -nc https://storage.googleapis.com/doctttttquery_git/t5-base.zip\n",
    "! unzip -o t5-base.zip"
   ]
  },
  {
   "cell_type": "code",
   "execution_count": 66,
   "metadata": {},
   "outputs": [
    {
     "name": "stderr",
     "output_type": "stream",
     "text": [
      "[nltk_data] Downloading package punkt to /Users/tlawless/nltk_data...\n",
      "[nltk_data]   Package punkt is already up-to-date!\n"
     ]
    }
   ],
   "source": [
    "import warnings\n",
    "warnings.filterwarnings('ignore')\n",
    "\n",
    "import requests\n",
    "\n",
    "from typing import List, Iterable\n",
    "\n",
    "import nltk\n",
    "import torch\n",
    "import pandas as pd\n",
    "from tqdm.notebook import tqdm\n",
    "from transformers import T5Config, T5Tokenizer, T5ForConditionalGeneration\n",
    "\n",
    "\n",
    "nltk.download('punkt')\n",
    "\n",
    "# Define the target device. Use GPU if available.\n",
    "device = 'cuda' if torch.cuda.is_available() else 'cpu'"
   ]
  },
  {
   "cell_type": "code",
   "execution_count": 67,
   "metadata": {},
   "outputs": [
    {
     "name": "stdout",
     "output_type": "stream",
     "text": [
      "cpu\n"
     ]
    }
   ],
   "source": [
    "print(device)"
   ]
  },
  {
   "cell_type": "code",
   "execution_count": 7,
   "metadata": {},
   "outputs": [
    {
     "data": {
      "text/plain": [
       "True"
      ]
     },
     "execution_count": 7,
     "metadata": {},
     "output_type": "execute_result"
    }
   ],
   "source": [
    "# Instantiate and load the QG model to the GPU. \n",
    "qg_tokenizer = T5Tokenizer.from_pretrained('t5-base')\n",
    "qg_config = T5Config.from_pretrained('t5-base')\n",
    "qg_model = T5ForConditionalGeneration.from_pretrained('model.ckpt-1004000', from_tf=True, config=qg_config)\n",
    "\n",
    "qg_model.to(device)\n",
    "\n",
    "True"
   ]
  },
  {
   "cell_type": "markdown",
   "metadata": {},
   "source": [
    "## Generation Pipeline\n",
    "\n",
    "Here we define our generation and preprocessing functions. Here you find the examples used in the paper, but you may customize these functions for your needs."
   ]
  },
  {
   "cell_type": "code",
   "execution_count": 8,
   "metadata": {},
   "outputs": [],
   "source": [
    "def preprocess(document: str, span=10, stride=5) -> List[str]:\n",
    "    \"\"\"\n",
    "    Define your preprocessing function.\n",
    "    \n",
    "    This function should take the a corpus document and output a list of generation\n",
    "    spans. This is required so we can match the expected sequence size of the\n",
    "    generation model.\n",
    "    \"\"\"\n",
    "    \n",
    "    sentences = nltk.tokenize.sent_tokenize(document)\n",
    "    chunks = [\" \".join(sentences[i:i+span]) for i in range(0, len(sentences), stride)]\n",
    "\n",
    "    return chunks\n",
    "    \n",
    "\n",
    "\n",
    "def generate_questions(text: str) -> List[str]:\n",
    "    \"\"\"\n",
    "    Define your generation function. \n",
    "    \n",
    "    This function should take a text passage and generate a list of questions.\n",
    "    With the current configuration it always generate one question per passage.\n",
    "    \n",
    "    You may copy this example to use the same configuration as the paper. \n",
    "    You may also configure the generation parameters (such as using sampling and\n",
    "    generating multiple questions) for other use cases.\n",
    "    \"\"\"\n",
    "    \n",
    "    # Append an end of sequence token </s> after the context.\n",
    "    doc_text = f\"{text} </s>\"\n",
    "\n",
    "    input_ids = qg_tokenizer.encode(doc_text, return_tensors='pt').to(device)\n",
    "    outputs = qg_model.generate(\n",
    "        input_ids=input_ids,\n",
    "        max_length=64,\n",
    "        do_sample=False,\n",
    "        n_beams=4,\n",
    "    )\n",
    "\n",
    "    return [qg_tokenizer.decode(output) for output in outputs]    "
   ]
  },
  {
   "cell_type": "markdown",
   "metadata": {},
   "source": [
    "### Corpus"
   ]
  },
  {
   "cell_type": "code",
   "execution_count": 71,
   "metadata": {},
   "outputs": [],
   "source": [
    "def get_wiki_corpus(wiki_pages):\n",
    "    for page in wiki_pages:\n",
    "        url = f\"https://en.wikipedia.org/w/api.php?action=query&format=json&titles={page}&prop=extracts&exintro&explaintext\"\n",
    "        rsp = requests.get(url)\n",
    "        data = rsp.json()\n",
    "        for _id, details in data[\"query\"][\"pages\"].items():\n",
    "            yield details[\"extract\"]\n",
    "            break"
   ]
  },
  {
   "cell_type": "code",
   "execution_count": 73,
   "metadata": {},
   "outputs": [],
   "source": [
    "pages = [\n",
    "    \"Bob_Dylan\",\n",
    "    \"Woody_Guthrie\",\n",
    "    \"Pete_Seeger\",\n",
    "    \"Bessie_Smith\"\n",
    "]\n",
    "# pages = [\n",
    "#     \"Computer\",\n",
    "#     \"Internet\",\n",
    "#     \"Software\",\n",
    "#     \"Operating_System\"\n",
    "# ]"
   ]
  },
  {
   "cell_type": "code",
   "execution_count": 74,
   "metadata": {},
   "outputs": [],
   "source": [
    "corpus = get_wiki_corpus(pages)"
   ]
  },
  {
   "cell_type": "markdown",
   "metadata": {},
   "source": [
    "### Generate the questions\n",
    "\n",
    "Here we apply the preprocessing and generation functions defined earlier. You may save questions into a list if your source is small. For large datasets we recommend adding some sort of checkpointing."
   ]
  },
  {
   "cell_type": "code",
   "execution_count": 75,
   "metadata": {},
   "outputs": [
    {
     "data": {
      "application/vnd.jupyter.widget-view+json": {
       "model_id": "6046d9db5d0047ee8264950530437eae",
       "version_major": 2,
       "version_minor": 0
      },
      "text/plain": [
       "HBox(children=(FloatProgress(value=1.0, bar_style='info', layout=Layout(width='20px'), max=1.0), HTML(value=''…"
      ]
     },
     "metadata": {},
     "output_type": "display_data"
    },
    {
     "name": "stdout",
     "output_type": "stream",
     "text": [
      "\n"
     ]
    }
   ],
   "source": [
    "questions = [\n",
    "    [generate_questions(span) for span in preprocess(doc)] \n",
    "    for doc in tqdm(corpus)\n",
    "]"
   ]
  },
  {
   "cell_type": "markdown",
   "metadata": {},
   "source": [
    "### Aggregate with Pandas\n",
    "\n",
    "Pandas is a very efficient way to aggregate the generations. In this example we define document, generation and question ids and group questions regarding these ids. We than count the unique examples for every span and document."
   ]
  },
  {
   "cell_type": "code",
   "execution_count": 76,
   "metadata": {},
   "outputs": [
    {
     "data": {
      "text/html": [
       "<div>\n",
       "<style scoped>\n",
       "    .dataframe tbody tr th:only-of-type {\n",
       "        vertical-align: middle;\n",
       "    }\n",
       "\n",
       "    .dataframe tbody tr th {\n",
       "        vertical-align: top;\n",
       "    }\n",
       "\n",
       "    .dataframe thead th {\n",
       "        text-align: right;\n",
       "    }\n",
       "</style>\n",
       "<table border=\"1\" class=\"dataframe\">\n",
       "  <thead>\n",
       "    <tr style=\"text-align: right;\">\n",
       "      <th></th>\n",
       "      <th>document_id</th>\n",
       "      <th>span_id</th>\n",
       "      <th>gen_id</th>\n",
       "      <th>question</th>\n",
       "    </tr>\n",
       "  </thead>\n",
       "  <tbody>\n",
       "    <tr>\n",
       "      <th>0</th>\n",
       "      <td>0</td>\n",
       "      <td>0:0</td>\n",
       "      <td>0:0:0</td>\n",
       "      <td>who is bob dylan</td>\n",
       "    </tr>\n",
       "    <tr>\n",
       "      <th>1</th>\n",
       "      <td>0</td>\n",
       "      <td>0:1</td>\n",
       "      <td>0:1:0</td>\n",
       "      <td>what year did bob dylan record his first album</td>\n",
       "    </tr>\n",
       "    <tr>\n",
       "      <th>2</th>\n",
       "      <td>0</td>\n",
       "      <td>0:2</td>\n",
       "      <td>0:2:0</td>\n",
       "      <td>when did dylan leave the band</td>\n",
       "    </tr>\n",
       "    <tr>\n",
       "      <th>3</th>\n",
       "      <td>0</td>\n",
       "      <td>0:3</td>\n",
       "      <td>0:3:0</td>\n",
       "      <td>what year did dylan get inducted into the rock...</td>\n",
       "    </tr>\n",
       "    <tr>\n",
       "      <th>4</th>\n",
       "      <td>0</td>\n",
       "      <td>0:4</td>\n",
       "      <td>0:4:0</td>\n",
       "      <td>what awards did dylan win</td>\n",
       "    </tr>\n",
       "    <tr>\n",
       "      <th>5</th>\n",
       "      <td>0</td>\n",
       "      <td>0:5</td>\n",
       "      <td>0:5:0</td>\n",
       "      <td>what was dylan awarded</td>\n",
       "    </tr>\n",
       "    <tr>\n",
       "      <th>6</th>\n",
       "      <td>1</td>\n",
       "      <td>1:0</td>\n",
       "      <td>1:0:0</td>\n",
       "      <td>who is woodrow wilson guthrie</td>\n",
       "    </tr>\n",
       "    <tr>\n",
       "      <th>7</th>\n",
       "      <td>1</td>\n",
       "      <td>1:1</td>\n",
       "      <td>1:1:0</td>\n",
       "      <td>who wrote dust bowl ballads</td>\n",
       "    </tr>\n",
       "    <tr>\n",
       "      <th>8</th>\n",
       "      <td>1</td>\n",
       "      <td>1:2</td>\n",
       "      <td>1:2:0</td>\n",
       "      <td>who wrote dust bowl ballads</td>\n",
       "    </tr>\n",
       "    <tr>\n",
       "      <th>9</th>\n",
       "      <td>1</td>\n",
       "      <td>1:3</td>\n",
       "      <td>1:3:0</td>\n",
       "      <td>who was woody guthrie's son</td>\n",
       "    </tr>\n",
       "    <tr>\n",
       "      <th>10</th>\n",
       "      <td>2</td>\n",
       "      <td>2:0</td>\n",
       "      <td>2:0:0</td>\n",
       "      <td>who is peter seeger</td>\n",
       "    </tr>\n",
       "    <tr>\n",
       "      <th>11</th>\n",
       "      <td>2</td>\n",
       "      <td>2:1</td>\n",
       "      <td>2:1:0</td>\n",
       "      <td>who sang if i had a hammer</td>\n",
       "    </tr>\n",
       "    <tr>\n",
       "      <th>12</th>\n",
       "      <td>2</td>\n",
       "      <td>2:2</td>\n",
       "      <td>2:2:0</td>\n",
       "      <td>who sang we shall overcome</td>\n",
       "    </tr>\n",
       "    <tr>\n",
       "      <th>13</th>\n",
       "      <td>2</td>\n",
       "      <td>2:3</td>\n",
       "      <td>2:3:0</td>\n",
       "      <td>who wrote we will overcome</td>\n",
       "    </tr>\n",
       "    <tr>\n",
       "      <th>14</th>\n",
       "      <td>3</td>\n",
       "      <td>3:0</td>\n",
       "      <td>3:0:0</td>\n",
       "      <td>who was bessie smith</td>\n",
       "    </tr>\n",
       "  </tbody>\n",
       "</table>\n",
       "</div>"
      ],
      "text/plain": [
       "    document_id span_id gen_id  \\\n",
       "0             0     0:0  0:0:0   \n",
       "1             0     0:1  0:1:0   \n",
       "2             0     0:2  0:2:0   \n",
       "3             0     0:3  0:3:0   \n",
       "4             0     0:4  0:4:0   \n",
       "5             0     0:5  0:5:0   \n",
       "6             1     1:0  1:0:0   \n",
       "7             1     1:1  1:1:0   \n",
       "8             1     1:2  1:2:0   \n",
       "9             1     1:3  1:3:0   \n",
       "10            2     2:0  2:0:0   \n",
       "11            2     2:1  2:1:0   \n",
       "12            2     2:2  2:2:0   \n",
       "13            2     2:3  2:3:0   \n",
       "14            3     3:0  3:0:0   \n",
       "\n",
       "                                             question  \n",
       "0                                    who is bob dylan  \n",
       "1      what year did bob dylan record his first album  \n",
       "2                       when did dylan leave the band  \n",
       "3   what year did dylan get inducted into the rock...  \n",
       "4                           what awards did dylan win  \n",
       "5                              what was dylan awarded  \n",
       "6                       who is woodrow wilson guthrie  \n",
       "7                         who wrote dust bowl ballads  \n",
       "8                         who wrote dust bowl ballads  \n",
       "9                         who was woody guthrie's son  \n",
       "10                                who is peter seeger  \n",
       "11                         who sang if i had a hammer  \n",
       "12                         who sang we shall overcome  \n",
       "13                         who wrote we will overcome  \n",
       "14                               who was bessie smith  "
      ]
     },
     "execution_count": 76,
     "metadata": {},
     "output_type": "execute_result"
    }
   ],
   "source": [
    "question_df = pd.DataFrame([\n",
    "    dict(\n",
    "        document_id=doc_idx,\n",
    "        span_id=f\"{doc_idx}:{span_idx}\",\n",
    "        gen_id=f\"{doc_idx}:{span_idx}:{gen_idx}\",\n",
    "        question=question,\n",
    "    )\n",
    "    for doc_idx, document_gen in enumerate(questions)\n",
    "    for span_idx, span_gen in enumerate(document_gen)\n",
    "    for gen_idx, question in enumerate(span_gen)\n",
    "])\n",
    "\n",
    "question_df"
   ]
  },
  {
   "cell_type": "code",
   "execution_count": 77,
   "metadata": {},
   "outputs": [
    {
     "data": {
      "text/html": [
       "<div>\n",
       "<style scoped>\n",
       "    .dataframe tbody tr th:only-of-type {\n",
       "        vertical-align: middle;\n",
       "    }\n",
       "\n",
       "    .dataframe tbody tr th {\n",
       "        vertical-align: top;\n",
       "    }\n",
       "\n",
       "    .dataframe thead th {\n",
       "        text-align: right;\n",
       "    }\n",
       "</style>\n",
       "<table border=\"1\" class=\"dataframe\">\n",
       "  <thead>\n",
       "    <tr style=\"text-align: right;\">\n",
       "      <th></th>\n",
       "      <th>document_id</th>\n",
       "      <th>span_id</th>\n",
       "      <th>gen_id</th>\n",
       "    </tr>\n",
       "    <tr>\n",
       "      <th>question</th>\n",
       "      <th></th>\n",
       "      <th></th>\n",
       "      <th></th>\n",
       "    </tr>\n",
       "  </thead>\n",
       "  <tbody>\n",
       "    <tr>\n",
       "      <th>who wrote dust bowl ballads</th>\n",
       "      <td>1</td>\n",
       "      <td>2</td>\n",
       "      <td>2</td>\n",
       "    </tr>\n",
       "    <tr>\n",
       "      <th>what awards did dylan win</th>\n",
       "      <td>1</td>\n",
       "      <td>1</td>\n",
       "      <td>1</td>\n",
       "    </tr>\n",
       "    <tr>\n",
       "      <th>what was dylan awarded</th>\n",
       "      <td>1</td>\n",
       "      <td>1</td>\n",
       "      <td>1</td>\n",
       "    </tr>\n",
       "    <tr>\n",
       "      <th>what year did bob dylan record his first album</th>\n",
       "      <td>1</td>\n",
       "      <td>1</td>\n",
       "      <td>1</td>\n",
       "    </tr>\n",
       "    <tr>\n",
       "      <th>what year did dylan get inducted into the rock and roll hall of fame</th>\n",
       "      <td>1</td>\n",
       "      <td>1</td>\n",
       "      <td>1</td>\n",
       "    </tr>\n",
       "    <tr>\n",
       "      <th>when did dylan leave the band</th>\n",
       "      <td>1</td>\n",
       "      <td>1</td>\n",
       "      <td>1</td>\n",
       "    </tr>\n",
       "    <tr>\n",
       "      <th>who is bob dylan</th>\n",
       "      <td>1</td>\n",
       "      <td>1</td>\n",
       "      <td>1</td>\n",
       "    </tr>\n",
       "    <tr>\n",
       "      <th>who is peter seeger</th>\n",
       "      <td>1</td>\n",
       "      <td>1</td>\n",
       "      <td>1</td>\n",
       "    </tr>\n",
       "    <tr>\n",
       "      <th>who is woodrow wilson guthrie</th>\n",
       "      <td>1</td>\n",
       "      <td>1</td>\n",
       "      <td>1</td>\n",
       "    </tr>\n",
       "    <tr>\n",
       "      <th>who sang if i had a hammer</th>\n",
       "      <td>1</td>\n",
       "      <td>1</td>\n",
       "      <td>1</td>\n",
       "    </tr>\n",
       "    <tr>\n",
       "      <th>who sang we shall overcome</th>\n",
       "      <td>1</td>\n",
       "      <td>1</td>\n",
       "      <td>1</td>\n",
       "    </tr>\n",
       "    <tr>\n",
       "      <th>who was bessie smith</th>\n",
       "      <td>1</td>\n",
       "      <td>1</td>\n",
       "      <td>1</td>\n",
       "    </tr>\n",
       "    <tr>\n",
       "      <th>who was woody guthrie's son</th>\n",
       "      <td>1</td>\n",
       "      <td>1</td>\n",
       "      <td>1</td>\n",
       "    </tr>\n",
       "    <tr>\n",
       "      <th>who wrote we will overcome</th>\n",
       "      <td>1</td>\n",
       "      <td>1</td>\n",
       "      <td>1</td>\n",
       "    </tr>\n",
       "  </tbody>\n",
       "</table>\n",
       "</div>"
      ],
      "text/plain": [
       "                                                    document_id  span_id  \\\n",
       "question                                                                   \n",
       "who wrote dust bowl ballads                                   1        2   \n",
       "what awards did dylan win                                     1        1   \n",
       "what was dylan awarded                                        1        1   \n",
       "what year did bob dylan record his first album                1        1   \n",
       "what year did dylan get inducted into the rock ...            1        1   \n",
       "when did dylan leave the band                                 1        1   \n",
       "who is bob dylan                                              1        1   \n",
       "who is peter seeger                                           1        1   \n",
       "who is woodrow wilson guthrie                                 1        1   \n",
       "who sang if i had a hammer                                    1        1   \n",
       "who sang we shall overcome                                    1        1   \n",
       "who was bessie smith                                          1        1   \n",
       "who was woody guthrie's son                                   1        1   \n",
       "who wrote we will overcome                                    1        1   \n",
       "\n",
       "                                                    gen_id  \n",
       "question                                                    \n",
       "who wrote dust bowl ballads                              2  \n",
       "what awards did dylan win                                1  \n",
       "what was dylan awarded                                   1  \n",
       "what year did bob dylan record his first album           1  \n",
       "what year did dylan get inducted into the rock ...       1  \n",
       "when did dylan leave the band                            1  \n",
       "who is bob dylan                                         1  \n",
       "who is peter seeger                                      1  \n",
       "who is woodrow wilson guthrie                            1  \n",
       "who sang if i had a hammer                               1  \n",
       "who sang we shall overcome                               1  \n",
       "who was bessie smith                                     1  \n",
       "who was woody guthrie's son                              1  \n",
       "who wrote we will overcome                               1  "
      ]
     },
     "execution_count": 77,
     "metadata": {},
     "output_type": "execute_result"
    }
   ],
   "source": [
    "# Group the results by question, count unique results and order by generation id counts.\n",
    "question_df \\\n",
    "    .groupby(\"question\") \\\n",
    "    .nunique() \\\n",
    "    .sort_values(\"gen_id\", ascending=False)"
   ]
  }
 ],
 "metadata": {
  "kernelspec": {
   "display_name": "Python 3",
   "language": "python",
   "name": "python3"
  },
  "language_info": {
   "codemirror_mode": {
    "name": "ipython",
    "version": 3
   },
   "file_extension": ".py",
   "mimetype": "text/x-python",
   "name": "python",
   "nbconvert_exporter": "python",
   "pygments_lexer": "ipython3",
   "version": "3.6.6"
  },
  "toc": {
   "base_numbering": 1,
   "nav_menu": {},
   "number_sections": true,
   "sideBar": true,
   "skip_h1_title": true,
   "title_cell": "Table of Contents",
   "title_sidebar": "Contents",
   "toc_cell": false,
   "toc_position": {},
   "toc_section_display": true,
   "toc_window_display": true
  }
 },
 "nbformat": 4,
 "nbformat_minor": 4
}
